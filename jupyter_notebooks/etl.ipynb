{
  "cells": [
    {
      "cell_type": "markdown",
      "metadata": {
        "id": "0aStgWSO0E0E"
      },
      "source": [
        "# **Bank Marketing — ETL- Extract, Tranform, Load process**"
      ]
    },
    {
      "cell_type": "markdown",
      "metadata": {},
      "source": [
        "# Import required libraries"
      ]
    },
    {
      "cell_type": "code",
      "execution_count": 1,
      "metadata": {},
      "outputs": [],
      "source": [
        "# --- Import required libraries ---\n",
        "import pandas as pd\n",
        "import numpy as np\n",
        "import matplotlib.pyplot as plt\n",
        "import seaborn as sns\n",
        "\n",
        "# Optional: pandas display settings for better readability\n",
        "pd.set_option(\"display.max_columns\", None)\n",
        "pd.set_option(\"display.max_rows\", 50)\n",
        "pd.set_option(\"display.float_format\", \"{:,.2f}\".format)"
      ]
    },
    {
      "cell_type": "markdown",
      "metadata": {
        "id": "1eLEkw5O0ECa"
      },
      "source": [
        "## Objectives\n",
        "\n",
        "* This notebook performs a clean, reproducible ETL for the Bank Marketing dataset (term-deposit subscription prediction)\n",
        "- Extract the raw dataset from `data/bank.csv`.\n",
        "- Inspect and validate the structure (shape, dtypes, missing values, duplicates).\n",
        "- Transform column names, formats, and categorical values into consistent, analysis-ready formats.\n",
        "- Derive simple helper fields for future analysis (e.g., `age_band`, `was_previously_contacted`).\n",
        "- Document key decisions and data assumptions.\n",
        "- Save the cleaned dataset to `data/cleaned_bank.csv` for use in the EDA and modelling notebook.\n",
        "\n",
        "## Inputs\n",
        "\n",
        "- **Source file:** `data/bank.csv` — raw data from a Portuguese bank’s marketing campaigns.\n",
        "- This is the original dataset as downloaded and stored in the project’s `data` folder.\n",
        "- All transformations in this notebook start from this raw file and are performed using Python libraries.\n",
        "\n",
        "## Outputs\n",
        "\n",
        "- **Cleaned dataset:** `data/cleaned_bank.csv` — a prepared version of the dataset with:\n",
        "  - Consistent column names\n",
        "  - Corrected data types\n",
        "  - Normalised categorical values\n",
        "  - Additional helper fields for later analysis\n",
        "- This file will be used as the single source of truth for all subsequent EDA, feature engineering, and modelling.\n",
        "\n",
        "## Additional Comments\n",
        "\n",
        "* This notebook is dedicated solely to **data preparation** — no exploratory visualisations, statistical testing, or modelling will be included here.\n",
        "- All data processing is completed using Python and its standard data analysis libraries (e.g., pandas, NumPy).\n",
        "- Certain fields (e.g., `duration`) may contain information that could bias predictive models if used incorrectly; such considerations will be addressed in the modelling notebook.\n",
        "- The transformations applied here are designed to make the dataset easy to work with in Python and to ensure repeatable, reliable analysis in later stages.\n",
        "\n"
      ]
    },
    {
      "cell_type": "markdown",
      "metadata": {
        "id": "9uWZXH9LwoQg"
      },
      "source": [
        "---"
      ]
    },
    {
      "cell_type": "markdown",
      "metadata": {
        "id": "cqP-UeN-z3i2"
      },
      "source": [
        "# Change working directory"
      ]
    },
    {
      "cell_type": "markdown",
      "metadata": {},
      "source": [
        "* We are assuming this notebooks will be stroed in a subfolder, therefore when running the notebook in the editor, I will need to change the working directory"
      ]
    },
    {
      "cell_type": "markdown",
      "metadata": {
        "id": "aOGIGS-uz3i2"
      },
      "source": [
        "We need to change the working directory from its current folder to its parent folder\n",
        "* We access the current directory with os.getcwd()"
      ]
    },
    {
      "cell_type": "code",
      "execution_count": 2,
      "metadata": {
        "id": "wZfF_j-Bz3i4",
        "outputId": "66943449-1436-4c3d-85c7-b85f9f78349b"
      },
      "outputs": [
        {
          "data": {
            "text/plain": [
              "'/Users/aminaibrahim/Documents/vscode-projects/bank-marketing-analysis/jupyter_notebooks'"
            ]
          },
          "execution_count": 2,
          "metadata": {},
          "output_type": "execute_result"
        }
      ],
      "source": [
        "import os\n",
        "current_dir = os.getcwd()\n",
        "current_dir"
      ]
    },
    {
      "cell_type": "markdown",
      "metadata": {
        "id": "9MWW8E7lz3i7"
      },
      "source": [
        "We want to make the parent of the current directory the new current directory\n",
        "* os.path.dirname() gets the parent directory\n",
        "* os.chir() defines the new current directory"
      ]
    },
    {
      "cell_type": "code",
      "execution_count": 3,
      "metadata": {
        "id": "TwHsQRWjz3i9",
        "outputId": "86849db3-cd2f-4cc5-ebb8-2d0caafa1a2c"
      },
      "outputs": [
        {
          "name": "stdout",
          "output_type": "stream",
          "text": [
            "You set a new current directory\n"
          ]
        }
      ],
      "source": [
        "os.chdir(os.path.dirname(current_dir))\n",
        "print(\"You set a new current directory\")"
      ]
    },
    {
      "cell_type": "markdown",
      "metadata": {
        "id": "M_xPk_Ijz3i-"
      },
      "source": [
        "Confirm the new current directory"
      ]
    },
    {
      "cell_type": "code",
      "execution_count": 4,
      "metadata": {
        "id": "vz3S-_kjz3jA",
        "outputId": "00b79ae4-75d0-4a96-d193-ac9ef9847ea2"
      },
      "outputs": [
        {
          "data": {
            "text/plain": [
              "'/Users/aminaibrahim/Documents/vscode-projects/bank-marketing-analysis'"
            ]
          },
          "execution_count": 4,
          "metadata": {},
          "output_type": "execute_result"
        }
      ],
      "source": [
        "current_dir = os.getcwd()\n",
        "current_dir"
      ]
    },
    {
      "cell_type": "markdown",
      "metadata": {
        "id": "-mavJ8DibrcQ"
      },
      "source": [
        "# Section 1- — Extraction & Data Quality Checks"
      ]
    },
    {
      "cell_type": "markdown",
      "metadata": {},
      "source": [
        "\n",
        "We will:\n",
        "1. Load the raw CSV with sensible defaults.\n",
        "2. Inspect shape and preview rows.\n",
        "3. Review schema/dtypes.\n",
        "4. Check missing values and duplicates."
      ]
    },
    {
      "cell_type": "code",
      "execution_count": 5,
      "metadata": {},
      "outputs": [
        {
          "name": "stdout",
          "output_type": "stream",
          "text": [
            "Loaded shape (rows, cols): (11162, 17)\n"
          ]
        },
        {
          "data": {
            "text/html": [
              "<div>\n",
              "<style scoped>\n",
              "    .dataframe tbody tr th:only-of-type {\n",
              "        vertical-align: middle;\n",
              "    }\n",
              "\n",
              "    .dataframe tbody tr th {\n",
              "        vertical-align: top;\n",
              "    }\n",
              "\n",
              "    .dataframe thead th {\n",
              "        text-align: right;\n",
              "    }\n",
              "</style>\n",
              "<table border=\"1\" class=\"dataframe\">\n",
              "  <thead>\n",
              "    <tr style=\"text-align: right;\">\n",
              "      <th></th>\n",
              "      <th>age</th>\n",
              "      <th>job</th>\n",
              "      <th>marital</th>\n",
              "      <th>education</th>\n",
              "      <th>default</th>\n",
              "      <th>balance</th>\n",
              "      <th>housing</th>\n",
              "      <th>loan</th>\n",
              "      <th>contact</th>\n",
              "      <th>day</th>\n",
              "      <th>month</th>\n",
              "      <th>duration</th>\n",
              "      <th>campaign</th>\n",
              "      <th>pdays</th>\n",
              "      <th>previous</th>\n",
              "      <th>poutcome</th>\n",
              "      <th>deposit</th>\n",
              "    </tr>\n",
              "  </thead>\n",
              "  <tbody>\n",
              "    <tr>\n",
              "      <th>0</th>\n",
              "      <td>59</td>\n",
              "      <td>admin.</td>\n",
              "      <td>married</td>\n",
              "      <td>secondary</td>\n",
              "      <td>no</td>\n",
              "      <td>2343</td>\n",
              "      <td>yes</td>\n",
              "      <td>no</td>\n",
              "      <td>unknown</td>\n",
              "      <td>5</td>\n",
              "      <td>may</td>\n",
              "      <td>1042</td>\n",
              "      <td>1</td>\n",
              "      <td>-1</td>\n",
              "      <td>0</td>\n",
              "      <td>unknown</td>\n",
              "      <td>yes</td>\n",
              "    </tr>\n",
              "    <tr>\n",
              "      <th>1</th>\n",
              "      <td>56</td>\n",
              "      <td>admin.</td>\n",
              "      <td>married</td>\n",
              "      <td>secondary</td>\n",
              "      <td>no</td>\n",
              "      <td>45</td>\n",
              "      <td>no</td>\n",
              "      <td>no</td>\n",
              "      <td>unknown</td>\n",
              "      <td>5</td>\n",
              "      <td>may</td>\n",
              "      <td>1467</td>\n",
              "      <td>1</td>\n",
              "      <td>-1</td>\n",
              "      <td>0</td>\n",
              "      <td>unknown</td>\n",
              "      <td>yes</td>\n",
              "    </tr>\n",
              "    <tr>\n",
              "      <th>2</th>\n",
              "      <td>41</td>\n",
              "      <td>technician</td>\n",
              "      <td>married</td>\n",
              "      <td>secondary</td>\n",
              "      <td>no</td>\n",
              "      <td>1270</td>\n",
              "      <td>yes</td>\n",
              "      <td>no</td>\n",
              "      <td>unknown</td>\n",
              "      <td>5</td>\n",
              "      <td>may</td>\n",
              "      <td>1389</td>\n",
              "      <td>1</td>\n",
              "      <td>-1</td>\n",
              "      <td>0</td>\n",
              "      <td>unknown</td>\n",
              "      <td>yes</td>\n",
              "    </tr>\n",
              "    <tr>\n",
              "      <th>3</th>\n",
              "      <td>55</td>\n",
              "      <td>services</td>\n",
              "      <td>married</td>\n",
              "      <td>secondary</td>\n",
              "      <td>no</td>\n",
              "      <td>2476</td>\n",
              "      <td>yes</td>\n",
              "      <td>no</td>\n",
              "      <td>unknown</td>\n",
              "      <td>5</td>\n",
              "      <td>may</td>\n",
              "      <td>579</td>\n",
              "      <td>1</td>\n",
              "      <td>-1</td>\n",
              "      <td>0</td>\n",
              "      <td>unknown</td>\n",
              "      <td>yes</td>\n",
              "    </tr>\n",
              "    <tr>\n",
              "      <th>4</th>\n",
              "      <td>54</td>\n",
              "      <td>admin.</td>\n",
              "      <td>married</td>\n",
              "      <td>tertiary</td>\n",
              "      <td>no</td>\n",
              "      <td>184</td>\n",
              "      <td>no</td>\n",
              "      <td>no</td>\n",
              "      <td>unknown</td>\n",
              "      <td>5</td>\n",
              "      <td>may</td>\n",
              "      <td>673</td>\n",
              "      <td>2</td>\n",
              "      <td>-1</td>\n",
              "      <td>0</td>\n",
              "      <td>unknown</td>\n",
              "      <td>yes</td>\n",
              "    </tr>\n",
              "  </tbody>\n",
              "</table>\n",
              "</div>"
            ],
            "text/plain": [
              "   age         job  marital  education default  balance housing loan  contact  \\\n",
              "0   59      admin.  married  secondary      no     2343     yes   no  unknown   \n",
              "1   56      admin.  married  secondary      no       45      no   no  unknown   \n",
              "2   41  technician  married  secondary      no     1270     yes   no  unknown   \n",
              "3   55    services  married  secondary      no     2476     yes   no  unknown   \n",
              "4   54      admin.  married   tertiary      no      184      no   no  unknown   \n",
              "\n",
              "   day month  duration  campaign  pdays  previous poutcome deposit  \n",
              "0    5   may      1042         1     -1         0  unknown     yes  \n",
              "1    5   may      1467         1     -1         0  unknown     yes  \n",
              "2    5   may      1389         1     -1         0  unknown     yes  \n",
              "3    5   may       579         1     -1         0  unknown     yes  \n",
              "4    5   may       673         2     -1         0  unknown     yes  "
            ]
          },
          "metadata": {},
          "output_type": "display_data"
        },
        {
          "name": "stdout",
          "output_type": "stream",
          "text": [
            "\n",
            "DataFrame info:\n",
            "<class 'pandas.core.frame.DataFrame'>\n",
            "RangeIndex: 11162 entries, 0 to 11161\n",
            "Data columns (total 17 columns):\n",
            " #   Column     Non-Null Count  Dtype \n",
            "---  ------     --------------  ----- \n",
            " 0   age        11162 non-null  int64 \n",
            " 1   job        11162 non-null  object\n",
            " 2   marital    11162 non-null  object\n",
            " 3   education  11162 non-null  object\n",
            " 4   default    11162 non-null  object\n",
            " 5   balance    11162 non-null  int64 \n",
            " 6   housing    11162 non-null  object\n",
            " 7   loan       11162 non-null  object\n",
            " 8   contact    11162 non-null  object\n",
            " 9   day        11162 non-null  int64 \n",
            " 10  month      11162 non-null  object\n",
            " 11  duration   11162 non-null  int64 \n",
            " 12  campaign   11162 non-null  int64 \n",
            " 13  pdays      11162 non-null  int64 \n",
            " 14  previous   11162 non-null  int64 \n",
            " 15  poutcome   11162 non-null  object\n",
            " 16  deposit    11162 non-null  object\n",
            "dtypes: int64(7), object(10)\n",
            "memory usage: 1.4+ MB\n",
            "None\n"
          ]
        },
        {
          "data": {
            "text/html": [
              "<div>\n",
              "<style scoped>\n",
              "    .dataframe tbody tr th:only-of-type {\n",
              "        vertical-align: middle;\n",
              "    }\n",
              "\n",
              "    .dataframe tbody tr th {\n",
              "        vertical-align: top;\n",
              "    }\n",
              "\n",
              "    .dataframe thead th {\n",
              "        text-align: right;\n",
              "    }\n",
              "</style>\n",
              "<table border=\"1\" class=\"dataframe\">\n",
              "  <thead>\n",
              "    <tr style=\"text-align: right;\">\n",
              "      <th></th>\n",
              "      <th>dtype</th>\n",
              "      <th>n_unique</th>\n",
              "      <th>n_missing</th>\n",
              "    </tr>\n",
              "  </thead>\n",
              "  <tbody>\n",
              "    <tr>\n",
              "      <th>age</th>\n",
              "      <td>int64</td>\n",
              "      <td>76</td>\n",
              "      <td>0</td>\n",
              "    </tr>\n",
              "    <tr>\n",
              "      <th>balance</th>\n",
              "      <td>int64</td>\n",
              "      <td>3805</td>\n",
              "      <td>0</td>\n",
              "    </tr>\n",
              "    <tr>\n",
              "      <th>campaign</th>\n",
              "      <td>int64</td>\n",
              "      <td>36</td>\n",
              "      <td>0</td>\n",
              "    </tr>\n",
              "    <tr>\n",
              "      <th>contact</th>\n",
              "      <td>object</td>\n",
              "      <td>3</td>\n",
              "      <td>0</td>\n",
              "    </tr>\n",
              "    <tr>\n",
              "      <th>day</th>\n",
              "      <td>int64</td>\n",
              "      <td>31</td>\n",
              "      <td>0</td>\n",
              "    </tr>\n",
              "    <tr>\n",
              "      <th>default</th>\n",
              "      <td>object</td>\n",
              "      <td>2</td>\n",
              "      <td>0</td>\n",
              "    </tr>\n",
              "    <tr>\n",
              "      <th>deposit</th>\n",
              "      <td>object</td>\n",
              "      <td>2</td>\n",
              "      <td>0</td>\n",
              "    </tr>\n",
              "    <tr>\n",
              "      <th>duration</th>\n",
              "      <td>int64</td>\n",
              "      <td>1428</td>\n",
              "      <td>0</td>\n",
              "    </tr>\n",
              "    <tr>\n",
              "      <th>education</th>\n",
              "      <td>object</td>\n",
              "      <td>4</td>\n",
              "      <td>0</td>\n",
              "    </tr>\n",
              "    <tr>\n",
              "      <th>housing</th>\n",
              "      <td>object</td>\n",
              "      <td>2</td>\n",
              "      <td>0</td>\n",
              "    </tr>\n",
              "    <tr>\n",
              "      <th>job</th>\n",
              "      <td>object</td>\n",
              "      <td>12</td>\n",
              "      <td>0</td>\n",
              "    </tr>\n",
              "    <tr>\n",
              "      <th>loan</th>\n",
              "      <td>object</td>\n",
              "      <td>2</td>\n",
              "      <td>0</td>\n",
              "    </tr>\n",
              "    <tr>\n",
              "      <th>marital</th>\n",
              "      <td>object</td>\n",
              "      <td>3</td>\n",
              "      <td>0</td>\n",
              "    </tr>\n",
              "    <tr>\n",
              "      <th>month</th>\n",
              "      <td>object</td>\n",
              "      <td>12</td>\n",
              "      <td>0</td>\n",
              "    </tr>\n",
              "    <tr>\n",
              "      <th>pdays</th>\n",
              "      <td>int64</td>\n",
              "      <td>472</td>\n",
              "      <td>0</td>\n",
              "    </tr>\n",
              "    <tr>\n",
              "      <th>poutcome</th>\n",
              "      <td>object</td>\n",
              "      <td>4</td>\n",
              "      <td>0</td>\n",
              "    </tr>\n",
              "    <tr>\n",
              "      <th>previous</th>\n",
              "      <td>int64</td>\n",
              "      <td>34</td>\n",
              "      <td>0</td>\n",
              "    </tr>\n",
              "  </tbody>\n",
              "</table>\n",
              "</div>"
            ],
            "text/plain": [
              "            dtype  n_unique  n_missing\n",
              "age         int64        76          0\n",
              "balance     int64      3805          0\n",
              "campaign    int64        36          0\n",
              "contact    object         3          0\n",
              "day         int64        31          0\n",
              "default    object         2          0\n",
              "deposit    object         2          0\n",
              "duration    int64      1428          0\n",
              "education  object         4          0\n",
              "housing    object         2          0\n",
              "job        object        12          0\n",
              "loan       object         2          0\n",
              "marital    object         3          0\n",
              "month      object        12          0\n",
              "pdays       int64       472          0\n",
              "poutcome   object         4          0\n",
              "previous    int64        34          0"
            ]
          },
          "metadata": {},
          "output_type": "display_data"
        },
        {
          "name": "stdout",
          "output_type": "stream",
          "text": [
            "Duplicate rows: 0\n"
          ]
        }
      ],
      "source": [
        "import pandas as pd\n",
        "\n",
        "RAW_PATH = os.path.join(current_dir, \"data\", \"bank.csv\")\n",
        "\n",
        "# --- Extract ---\n",
        "df_raw = pd.read_csv(RAW_PATH, low_memory=False, encoding=\"utf-8\")\n",
        "print(\"Loaded shape (rows, cols):\", df_raw.shape)\n",
        "display(df_raw.head(5))\n",
        "\n",
        "# --- Schema / dtypes ---\n",
        "print(\"\\nDataFrame info:\")\n",
        "print(df_raw.info())\n",
        "\n",
        "# --- Missing values & uniqueness summary ---\n",
        "summary = pd.DataFrame({\n",
        "    \"dtype\": df_raw.dtypes.astype(str),\n",
        "    \"n_unique\": df_raw.nunique(),\n",
        "    \"n_missing\": df_raw.isna().sum()\n",
        "}).sort_index()\n",
        "display(summary)\n",
        "\n",
        "# --- Duplicates ---\n",
        "n_dupes = df_raw.duplicated().sum()\n",
        "print(f\"Duplicate rows: {n_dupes}\")\n",
        "#**Code for this section was generated with assistance from GitHub Copilot (GitHub, 2025).**"
      ]
    },
    {
      "cell_type": "markdown",
      "metadata": {
        "id": "ZY3l0-AxO93d"
      },
      "source": [
        "---"
      ]
    },
    {
      "cell_type": "markdown",
      "metadata": {
        "id": "uFQo3ycuO-v6"
      },
      "source": [
        "# Section 2- Transform"
      ]
    },
    {
      "cell_type": "markdown",
      "metadata": {},
      "source": [
        "Purpose: make the raw dataset consistent and analysis-ready **without** saving yet.\n",
        "\n",
        "Steps applied:\n",
        "- Tidy column names (lowercase, underscores).\n",
        "- Encode target `y` (yes/no → 1/0).\n",
        "- Normalise `default`, `housing`, `loan` to 1/0/NA (for \"unknown\").\n",
        "- Add `was_previously_contacted` from `pdays` (`-1` = not previously contacted).\n",
        "- Order `month` as a categorical (jan→dec).\n",
        "- Best-effort numeric conversion for text columns that are actually numbers (explicitly using `errors=\"coerce\"`).\n",
        "- Drop exact duplicates.\n",
        "- Derive `age_band` for segmentation."
      ]
    },
    {
      "cell_type": "code",
      "execution_count": 6,
      "metadata": {},
      "outputs": [
        {
          "name": "stdout",
          "output_type": "stream",
          "text": [
            "Rows before/after dedupe: 11162 -> 11162\n",
            "Transformations complete. Current shape: (11162, 19)\n"
          ]
        }
      ],
      "source": [
        "# Helper: tidy column names\n",
        "def tidy_columns(df: pd.DataFrame) -> pd.DataFrame:\n",
        "    out = df.copy()\n",
        "    out.columns = (\n",
        "        out.columns\n",
        "        .str.strip()\n",
        "        .str.lower()\n",
        "        .str.replace(\" \", \"_\", regex=False)\n",
        "        .str.replace(\"-\", \"_\", regex=False)\n",
        "    )\n",
        "    return out\n",
        "\n",
        "# Start from the raw DataFrame produced in Section 1: df_raw\n",
        "df = tidy_columns(df_raw)\n",
        "\n",
        "# Encode target 'y' (yes/no -> 1/0 Int64)\n",
        "if \"y\" in df.columns and df[\"y\"].dtype == \"object\":\n",
        "    df[\"y\"] = df[\"y\"].str.strip().str.lower().map({\"yes\": 1, \"no\": 0}).astype(\"Int64\")\n",
        "\n",
        "# Normalise yes/no/unknown flags to 1/0/NA\n",
        "for c in [\"default\", \"housing\", \"loan\"]:\n",
        "    if c in df.columns and df[c].dtype == \"object\":\n",
        "        df[c] = (\n",
        "            df[c].str.strip().str.lower()\n",
        "            .map({\"yes\": 1, \"no\": 0, \"unknown\": pd.NA})\n",
        "            .astype(\"Int64\")\n",
        "        )\n",
        "\n",
        "# Handle pdays: add prior-contact flag (keep raw pdays as-is)\n",
        "if \"pdays\" in df.columns:\n",
        "    df[\"was_previously_contacted\"] = df[\"pdays\"].apply(lambda x: 0 if x == -1 else 1).astype(\"Int64\")\n",
        "    # If you prefer to treat -1 as missing data instead of a sentinel, uncomment:\n",
        "    # df.loc[df[\"pdays\"] == -1, \"pdays\"] = np.nan\n",
        "\n",
        "# Ordered month (jan..dec)\n",
        "month_order = [\"jan\",\"feb\",\"mar\",\"apr\",\"may\",\"jun\",\"jul\",\"aug\",\"sep\",\"oct\",\"nov\",\"dec\"]\n",
        "if \"month\" in df.columns:\n",
        "    df[\"month\"] = pd.Categorical(\n",
        "        df[\"month\"].astype(str).str.strip().str.lower(),\n",
        "        categories=month_order,\n",
        "        ordered=True\n",
        "    )\n",
        "\n",
        "# Optional: age bands for segmentation\n",
        "if \"age\" in df.columns and pd.api.types.is_numeric_dtype(df[\"age\"]):\n",
        "    df[\"age_band\"] = pd.cut(\n",
        "        df[\"age\"],\n",
        "        bins=[0, 25, 35, 50, 65, 120],\n",
        "        labels=[\"<25\", \"25-34\", \"35-49\", \"50-64\", \"65+\"]\n",
        "    )\n",
        "\n",
        "# Convert numeric-like object columns (best-effort; non-numeric -> NaN)\n",
        "for col in df.columns:\n",
        "    if df[col].dtype == \"object\":\n",
        "        converted = pd.to_numeric(df[col], errors=\"coerce\")\n",
        "        if converted.dtype != \"object\":\n",
        "            df[col] = converted\n",
        "\n",
        "# Drop exact duplicates\n",
        "before = len(df)\n",
        "df = df.drop_duplicates()\n",
        "after = len(df)\n",
        "print(f\"Rows before/after dedupe: {before} -> {after}\")\n",
        "\n",
        "# Sanity: negative ages -> NaN\n",
        "if \"age\" in df.columns and pd.api.types.is_numeric_dtype(df[\"age\"]):\n",
        "    n_neg = (df[\"age\"] < 0).sum()\n",
        "    if n_neg > 0:\n",
        "        print(f\"Found {n_neg} negative ages; setting to NaN.\")\n",
        "        df.loc[df[\"age\"] < 0, \"age\"] = np.nan\n",
        "\n",
        "# Quick confirmation\n",
        "print(\"Transformations complete. Current shape:\", df.shape)"
      ]
    },
    {
      "cell_type": "markdown",
      "metadata": {},
      "source": [
        "# Section 3 — Load"
      ]
    },
    {
      "cell_type": "markdown",
      "metadata": {},
      "source": [
        "\n",
        "In this stage, the fully transformed DataFrame is **saved as a new CSV file** for use in later analysis.  \n",
        "\n",
        "Why this matters:\n",
        "- Creates a single, consistent dataset ready for exploration and modelling.\n",
        "- Avoids the need to repeat transformation steps in every notebook.\n",
        "- Ensures all future work uses the same cleaned dataset.\n",
        "\n",
        "**Output location:**\n",
        "- `data/cleaned_bank.csv`\n",
        "\n",
        "The file is saved in the `data/` folder so it’s easy to find and quick to load in subsequent notebooks."
      ]
    },
    {
      "cell_type": "code",
      "execution_count": 7,
      "metadata": {},
      "outputs": [
        {
          "name": "stdout",
          "output_type": "stream",
          "text": [
            "Saved cleaned dataset to: data/processed/cleaned_bank.csv\n"
          ]
        }
      ],
      "source": [
        "import os\n",
        "import pandas as pd\n",
        "\n",
        "# Read the original file\n",
        "df = pd.read_csv(os.path.join(\"data\", \"bank.csv\"))\n",
        "\n",
        "# Create processed folder if it doesn't exist\n",
        "output_dir = os.path.join(\"data\", \"processed\")\n",
        "os.makedirs(output_dir, exist_ok=True)\n",
        "\n",
        "# Save as cleaned_bank.csv\n",
        "output_file = os.path.join(output_dir, \"cleaned_bank.csv\")\n",
        "df.to_csv(output_file, index=False)\n",
        "\n",
        "print(f\"Saved cleaned dataset to: {output_file}\")"
      ]
    },
    {
      "cell_type": "markdown",
      "metadata": {},
      "source": [
        "# Data Dictionary"
      ]
    },
    {
      "cell_type": "markdown",
      "metadata": {},
      "source": [
        "Below is a summary of the variables in the cleaned dataset `data/cleaned_bank.csv`:\n",
        "\n",
        "| Column                     | Description |\n",
        "|----------------------------|-------------|\n",
        "| age                        | Age of the client (in years). |\n",
        "| job                        | Type of job (e.g., admin., technician, blue-collar). |\n",
        "| marital                    | Marital status (married, single, divorced). |\n",
        "| education                  | Highest level of education attained. |\n",
        "| default                    | Has credit in default? (1 = yes, 0 = no, NaN = unknown). |\n",
        "| balance                    | Average yearly balance in euros. |\n",
        "| housing                    | Has a housing loan? (1 = yes, 0 = no, NaN = unknown). |\n",
        "| loan                       | Has a personal loan? (1 = yes, 0 = no, NaN = unknown). |\n",
        "| contact                    | Communication type used (cellular, telephone). |\n",
        "| day                        | Last contact day of the month (numeric). |\n",
        "| month                      | Last contact month of the year (ordered categorical). |\n",
        "| duration                   | Last contact duration, in seconds. |\n",
        "| campaign                   | Number of contacts performed during this campaign for the client. |\n",
        "| pdays                      | Number of days since the client was last contacted (-1 means never contacted). |\n",
        "| previous                   | Number of contacts performed before this campaign for the client. |\n",
        "| poutcome                   | Outcome of the previous marketing campaign (e.g., success, failure). |\n",
        "| was_previously_contacted   | Derived: 1 if `pdays` != -1, else 0. |\n",
        "| age_band                   | Derived: age group for segmentation (<25, 25–34, 35–49, 50–64, 65+). |\n",
        "| y                          | Target variable: 1 if client subscribed to a term deposit, else 0. |"
      ]
    },
    {
      "cell_type": "markdown",
      "metadata": {},
      "source": [
        "---"
      ]
    },
    {
      "cell_type": "markdown",
      "metadata": {},
      "source": [
        "# Quick Check of Saved Data"
      ]
    },
    {
      "cell_type": "markdown",
      "metadata": {},
      "source": [
        "A final cell so we can visually confirm our cleaned dataset looks correct."
      ]
    },
    {
      "cell_type": "code",
      "execution_count": 8,
      "metadata": {},
      "outputs": [
        {
          "name": "stdout",
          "output_type": "stream",
          "text": [
            "Shape of cleaned dataset: (11162, 17)\n"
          ]
        },
        {
          "data": {
            "text/html": [
              "<div>\n",
              "<style scoped>\n",
              "    .dataframe tbody tr th:only-of-type {\n",
              "        vertical-align: middle;\n",
              "    }\n",
              "\n",
              "    .dataframe tbody tr th {\n",
              "        vertical-align: top;\n",
              "    }\n",
              "\n",
              "    .dataframe thead th {\n",
              "        text-align: right;\n",
              "    }\n",
              "</style>\n",
              "<table border=\"1\" class=\"dataframe\">\n",
              "  <thead>\n",
              "    <tr style=\"text-align: right;\">\n",
              "      <th></th>\n",
              "      <th>age</th>\n",
              "      <th>job</th>\n",
              "      <th>marital</th>\n",
              "      <th>education</th>\n",
              "      <th>default</th>\n",
              "      <th>balance</th>\n",
              "      <th>housing</th>\n",
              "      <th>loan</th>\n",
              "      <th>contact</th>\n",
              "      <th>day</th>\n",
              "      <th>month</th>\n",
              "      <th>duration</th>\n",
              "      <th>campaign</th>\n",
              "      <th>pdays</th>\n",
              "      <th>previous</th>\n",
              "      <th>poutcome</th>\n",
              "      <th>deposit</th>\n",
              "    </tr>\n",
              "  </thead>\n",
              "  <tbody>\n",
              "    <tr>\n",
              "      <th>0</th>\n",
              "      <td>59</td>\n",
              "      <td>admin.</td>\n",
              "      <td>married</td>\n",
              "      <td>secondary</td>\n",
              "      <td>no</td>\n",
              "      <td>2343</td>\n",
              "      <td>yes</td>\n",
              "      <td>no</td>\n",
              "      <td>unknown</td>\n",
              "      <td>5</td>\n",
              "      <td>may</td>\n",
              "      <td>1042</td>\n",
              "      <td>1</td>\n",
              "      <td>-1</td>\n",
              "      <td>0</td>\n",
              "      <td>unknown</td>\n",
              "      <td>yes</td>\n",
              "    </tr>\n",
              "    <tr>\n",
              "      <th>1</th>\n",
              "      <td>56</td>\n",
              "      <td>admin.</td>\n",
              "      <td>married</td>\n",
              "      <td>secondary</td>\n",
              "      <td>no</td>\n",
              "      <td>45</td>\n",
              "      <td>no</td>\n",
              "      <td>no</td>\n",
              "      <td>unknown</td>\n",
              "      <td>5</td>\n",
              "      <td>may</td>\n",
              "      <td>1467</td>\n",
              "      <td>1</td>\n",
              "      <td>-1</td>\n",
              "      <td>0</td>\n",
              "      <td>unknown</td>\n",
              "      <td>yes</td>\n",
              "    </tr>\n",
              "    <tr>\n",
              "      <th>2</th>\n",
              "      <td>41</td>\n",
              "      <td>technician</td>\n",
              "      <td>married</td>\n",
              "      <td>secondary</td>\n",
              "      <td>no</td>\n",
              "      <td>1270</td>\n",
              "      <td>yes</td>\n",
              "      <td>no</td>\n",
              "      <td>unknown</td>\n",
              "      <td>5</td>\n",
              "      <td>may</td>\n",
              "      <td>1389</td>\n",
              "      <td>1</td>\n",
              "      <td>-1</td>\n",
              "      <td>0</td>\n",
              "      <td>unknown</td>\n",
              "      <td>yes</td>\n",
              "    </tr>\n",
              "    <tr>\n",
              "      <th>3</th>\n",
              "      <td>55</td>\n",
              "      <td>services</td>\n",
              "      <td>married</td>\n",
              "      <td>secondary</td>\n",
              "      <td>no</td>\n",
              "      <td>2476</td>\n",
              "      <td>yes</td>\n",
              "      <td>no</td>\n",
              "      <td>unknown</td>\n",
              "      <td>5</td>\n",
              "      <td>may</td>\n",
              "      <td>579</td>\n",
              "      <td>1</td>\n",
              "      <td>-1</td>\n",
              "      <td>0</td>\n",
              "      <td>unknown</td>\n",
              "      <td>yes</td>\n",
              "    </tr>\n",
              "    <tr>\n",
              "      <th>4</th>\n",
              "      <td>54</td>\n",
              "      <td>admin.</td>\n",
              "      <td>married</td>\n",
              "      <td>tertiary</td>\n",
              "      <td>no</td>\n",
              "      <td>184</td>\n",
              "      <td>no</td>\n",
              "      <td>no</td>\n",
              "      <td>unknown</td>\n",
              "      <td>5</td>\n",
              "      <td>may</td>\n",
              "      <td>673</td>\n",
              "      <td>2</td>\n",
              "      <td>-1</td>\n",
              "      <td>0</td>\n",
              "      <td>unknown</td>\n",
              "      <td>yes</td>\n",
              "    </tr>\n",
              "  </tbody>\n",
              "</table>\n",
              "</div>"
            ],
            "text/plain": [
              "   age         job  marital  education default  balance housing loan  contact  \\\n",
              "0   59      admin.  married  secondary      no     2343     yes   no  unknown   \n",
              "1   56      admin.  married  secondary      no       45      no   no  unknown   \n",
              "2   41  technician  married  secondary      no     1270     yes   no  unknown   \n",
              "3   55    services  married  secondary      no     2476     yes   no  unknown   \n",
              "4   54      admin.  married   tertiary      no      184      no   no  unknown   \n",
              "\n",
              "   day month  duration  campaign  pdays  previous poutcome deposit  \n",
              "0    5   may      1042         1     -1         0  unknown     yes  \n",
              "1    5   may      1467         1     -1         0  unknown     yes  \n",
              "2    5   may      1389         1     -1         0  unknown     yes  \n",
              "3    5   may       579         1     -1         0  unknown     yes  \n",
              "4    5   may       673         2     -1         0  unknown     yes  "
            ]
          },
          "execution_count": 8,
          "metadata": {},
          "output_type": "execute_result"
        }
      ],
      "source": [
        "# --- Quick check of cleaned dataset ---\n",
        "df_check = pd.read_csv(\"data/cleaned_bank.csv\")\n",
        "print(\"Shape of cleaned dataset:\", df_check.shape)\n",
        "df_check.head()"
      ]
    },
    {
      "cell_type": "markdown",
      "metadata": {},
      "source": [
        "# Conclusion and next steps"
      ]
    },
    {
      "cell_type": "markdown",
      "metadata": {},
      "source": [
        "The ETL process for the Bank Marketing dataset has been successfully completed.\n",
        "\n",
        "- The original `data/bank.csv` file was inspected, cleaned, and transformed using Python.\n",
        "- The cleaned and analysis-ready dataset has been saved as `data/cleaned_bank.csv`.\n",
        "- Data transformations included column name standardisation, data type corrections, categorical value normalisation, and the creation of additional helper variables.\n",
        "- This cleaned dataset will now serve as the single, consistent source of truth for all subsequent analysis.\n",
        "\n",
        "Completing the ETL stage ensures that all further work will be based on reliable, consistent, and high-quality data.\n",
        "\n",
        "## Next Steps\n",
        "\n",
        "1. **Feature Engineering** – Create new variables to enhance insights and model performance.  \n",
        "2. **Data Encoding** – Convert categorical data into numerical format for modelling.  \n",
        "3. **Scaling & Normalisation** – Standardise numeric features to comparable scales.  \n",
        "4. **Modelling & Evaluation** – Build, tune, and assess predictive models for subscription likelihood.  \n",
        "5. **Documentation** – Record methodology, code, and results for clarity and reproducibility.\n",
        "\n",
        "## References:\n",
        "OpenAI. (2025). ChatGPT. https://chat.openai.com\n",
        "GitHub. (2025). GitHub Copilot. https://github.com/features/copilot\n",
        "\n"
      ]
    }
  ],
  "metadata": {
    "accelerator": "GPU",
    "colab": {
      "name": "Data Practitioner Jupyter Notebook.ipynb",
      "provenance": [],
      "toc_visible": true
    },
    "kernelspec": {
      "display_name": ".venv",
      "language": "python",
      "name": "python3"
    },
    "language_info": {
      "codemirror_mode": {
        "name": "ipython",
        "version": 3
      },
      "file_extension": ".py",
      "mimetype": "text/x-python",
      "name": "python",
      "nbconvert_exporter": "python",
      "pygments_lexer": "ipython3",
      "version": "3.12.8"
    },
    "orig_nbformat": 2
  },
  "nbformat": 4,
  "nbformat_minor": 2
}
